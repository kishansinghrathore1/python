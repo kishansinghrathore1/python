{
 "cells": [
  {
   "cell_type": "code",
   "execution_count": 3,
   "id": "c7cd0981-8c75-4e81-bb3e-3873529da00d",
   "metadata": {},
   "outputs": [
    {
     "name": "stdout",
     "output_type": "stream",
     "text": [
      "hello\n"
     ]
    }
   ],
   "source": [
    "print(\"hello\")\n"
   ]
  },
  {
   "cell_type": "code",
   "execution_count": 5,
   "id": "b0954fc3-d749-4bb0-9d24-59879a8d0a86",
   "metadata": {},
   "outputs": [
    {
     "name": "stdout",
     "output_type": "stream",
     "text": [
      "hello father class with x\n"
     ]
    }
   ],
   "source": [
    "class father:\n",
    "    def info(self):\n",
    "        print(\"hello father class\")\n",
    "    def info(self,x):\n",
    "        print(\"hello father class with x\")\n",
    "f1=father()\n",
    "f1.info(10)"
   ]
  },
  {
   "cell_type": "code",
   "execution_count": null,
   "id": "a5ff0b54-a6d5-4cda-a2b1-a46d7e37c699",
   "metadata": {},
   "outputs": [],
   "source": []
  },
  {
   "cell_type": "code",
   "execution_count": 8,
   "id": "833dca71-e45c-4468-aa3d-fe364a562091",
   "metadata": {},
   "outputs": [
    {
     "name": "stdout",
     "output_type": "stream",
     "text": [
      "this is child class\n"
     ]
    }
   ],
   "source": [
    "class father:\n",
    "    def info(self):\n",
    "        print(\"hello father class\")\n",
    "class child(father):\n",
    "    def info2(self):\n",
    "        print(\"this is child class\")\n",
    "c1=child()\n",
    "c1.info2()"
   ]
  },
  {
   "cell_type": "code",
   "execution_count": 21,
   "id": "c38bb858-2b6c-43ca-9ba8-63336b4a469d",
   "metadata": {},
   "outputs": [
    {
     "name": "stdout",
     "output_type": "stream",
     "text": [
      "hello 12345raj\n"
     ]
    }
   ],
   "source": [
    "#operator overloding\n",
    "class AddNo:\n",
    "    def __init__(self,num1,num2):\n",
    "        self.num1=num1\n",
    "        self.num2=num2\n",
    "    def __add__(self,x):\n",
    "         print(\"hello 12345raj\")\n",
    "        \n",
    "a1=AddNo(10,20)\n",
    "a2=AddNo(450,500)\n",
    "a1+a2 # => a1.__add__(a2)\n",
    "#__add__   function chlata =>dunder functions\n"
   ]
  },
  {
   "cell_type": "code",
   "execution_count": 23,
   "id": "34783d6d-8b02-4d26-8be0-0f10f47924aa",
   "metadata": {},
   "outputs": [],
   "source": [
    "#operator overloding and method  \n",
    "     "
   ]
  },
  {
   "cell_type": "code",
   "execution_count": 25,
   "id": "524a4e54-e370-468c-84d8-d400ef67d76a",
   "metadata": {},
   "outputs": [],
   "source": [
    "y=10\n",
    "#encapsulation\n",
    "#bind the varuabke and nmethod together\n",
    "# class \n",
    "#access kar sakta nhi kr sakta \n"
   ]
  },
  {
   "cell_type": "code",
   "execution_count": 27,
   "id": "9540d61c-d9d2-45e3-a52d-237dd25afb04",
   "metadata": {},
   "outputs": [],
   "source": [
    "#public,private ,protected ,default => access modifier"
   ]
  },
  {
   "cell_type": "code",
   "execution_count": 33,
   "id": "4216fa05-3ee5-4769-a77a-597d9ade6a16",
   "metadata": {},
   "outputs": [
    {
     "ename": "AttributeError",
     "evalue": "'xyz' object has no attribute '__y'",
     "output_type": "error",
     "traceback": [
      "\u001b[1;31m---------------------------------------------------------------------------\u001b[0m",
      "\u001b[1;31mAttributeError\u001b[0m                            Traceback (most recent call last)",
      "Cell \u001b[1;32mIn[33], line 5\u001b[0m\n\u001b[0;32m      3\u001b[0m     __y\u001b[38;5;241m=\u001b[39m\u001b[38;5;241m10\u001b[39m\n\u001b[0;32m      4\u001b[0m x1\u001b[38;5;241m=\u001b[39mxyz()\n\u001b[1;32m----> 5\u001b[0m x1\u001b[38;5;241m.\u001b[39m__y\n",
      "\u001b[1;31mAttributeError\u001b[0m: 'xyz' object has no attribute '__y'"
     ]
    }
   ],
   "source": [
    "# _(protected) __(private)\n",
    "class xyz:\n",
    "    __y=10\n",
    "x1=xyz()\n",
    "x1.__y\n",
    "\n",
    "    "
   ]
  },
  {
   "cell_type": "code",
   "execution_count": null,
   "id": "f4c396c2-f900-4e0f-9a3d-1479cb9a3913",
   "metadata": {},
   "outputs": [],
   "source": [
    "class xyz:\n",
    "    __salary=10\n",
    "class regex(xyz)\n",
    "    amount=200\n",
    "\n",
    "r1=regex()\n",
    "\n",
    "x1.__y"
   ]
  },
  {
   "cell_type": "code",
   "execution_count": null,
   "id": "68c87883-e556-44a6-9a89-75d725953516",
   "metadata": {},
   "outputs": [],
   "source": [
    "class xyz:\n",
    "    __salary=10\n",
    "class regex(xyz)\n",
    "    amount=200\n",
    "#x1=xyz()\n",
    "#x1.xyz__salary#__salary=>_class__variable\n",
    "x1=xyz()\n",
    "x1._xyz__saslary\n"
   ]
  },
  {
   "cell_type": "code",
   "execution_count": 45,
   "id": "25ae475e-3f89-41d0-99ab-ea670138fa02",
   "metadata": {},
   "outputs": [
    {
     "name": "stdout",
     "output_type": "stream",
     "text": [
      "has 4 legs\n"
     ]
    }
   ],
   "source": [
    "#notation\n",
    "#abstraction\n",
    "#ooops feature=>unwwanted details froms the user\n",
    "#abstraction class=>atlest 1 abstact method\n",
    "#imlemention is not given => implemented by child classes\n",
    "#no object for abstract base class=>mammels \n",
    "from abc import ABC,abstractmethod\n",
    "class Memmels(ABC): #mammels has inherited the abstract base class(ABC)\n",
    "    @abstractmethod\n",
    "    def leg(self):\n",
    "        pass\n",
    "\n",
    "class Dog(Memmels):\n",
    "    def leg(self):\n",
    "        print(\"has 4 legs\")\n",
    "    def info(self):\n",
    "        print(\"this is dog class\")\n",
    "d1=Dog()\n",
    "d1.leg()"
   ]
  },
  {
   "cell_type": "code",
   "execution_count": 35,
   "id": "64f51e6f-a7a5-47e2-8192-2b03a7b95010",
   "metadata": {},
   "outputs": [
    {
     "name": "stdout",
     "output_type": "stream",
     "text": [
      "has 2 leg\n"
     ]
    }
   ],
   "source": [
    "class Mammels:\n",
    "    def leg(self):\n",
    "        print(\"has 2 leg\")\n",
    "class Dog (Mammels):\n",
    "    def info (self):\n",
    "        print(\"this is dosg class\")\n",
    "d1=Dog()\n",
    "d1.leg()"
   ]
  },
  {
   "cell_type": "code",
   "execution_count": null,
   "id": "96c25d57-f8b9-40a0-abef-1b43af9f5c39",
   "metadata": {},
   "outputs": [],
   "source": []
  }
 ],
 "metadata": {
  "kernelspec": {
   "display_name": "Python 3 (ipykernel)",
   "language": "python",
   "name": "python3"
  },
  "language_info": {
   "codemirror_mode": {
    "name": "ipython",
    "version": 3
   },
   "file_extension": ".py",
   "mimetype": "text/x-python",
   "name": "python",
   "nbconvert_exporter": "python",
   "pygments_lexer": "ipython3",
   "version": "3.12.4"
  }
 },
 "nbformat": 4,
 "nbformat_minor": 5
}
